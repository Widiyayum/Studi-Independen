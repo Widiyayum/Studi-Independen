{
  "nbformat": 4,
  "nbformat_minor": 0,
  "metadata": {
    "colab": {
      "name": "Stocking Blitz_Prediksi Naive Bayes_Kelompok  6_Jumatec.ipynb",
      "provenance": [],
      "include_colab_link": true
    },
    "kernelspec": {
      "name": "python3",
      "display_name": "Python 3"
    },
    "language_info": {
      "name": "python"
    }
  },
  "cells": [
    {
      "cell_type": "markdown",
      "metadata": {
        "id": "view-in-github",
        "colab_type": "text"
      },
      "source": [
        "<a href=\"https://colab.research.google.com/github/Widiyayum/Studi-Independen/blob/main/Stocking_Blitz_Prediksi_Naive_Bayes_Kelompok_6_Jumatec.ipynb\" target=\"_parent\"><img src=\"https://colab.research.google.com/assets/colab-badge.svg\" alt=\"Open In Colab\"/></a>"
      ]
    },
    {
      "cell_type": "markdown",
      "source": [
        "# **STOCKING BLITZ**"
      ],
      "metadata": {
        "id": "3NmWNbCvFlJK"
      }
    },
    {
      "cell_type": "markdown",
      "source": [
        "**PROJECT AKHIR**\n",
        "\n",
        "Kelompok 6 - **ANALISIS PREDIKSI PERSEDIAAN BAHAN BAKU DENGAN METODE MACHINE LEARNING PADA UMKM TOKO TAS BU INDAH**\n",
        "\n",
        "Nama Web App - **Stocking Blitz**\n",
        "\n",
        "1. Diki Wahyu Pratama            - Jumatec - Universitas Negeri Semarang\n",
        "2. Sinta Puspa Sari              - Jumatec - Universitas Muhammadiyah Sumatera Utara\n",
        "3. Laili Miftachur Rohmah        - Jumatec - Universitas Merdeka Malang\n",
        "4. Maulidia Nur Zahrotun Na`Imah - Jumatec - Universitas Islam Malang\n",
        "5. Widiyaningrum                 - Jumatec - Universitas Airlangga"
      ],
      "metadata": {
        "id": "MrJbDM48Fhf5"
      }
    },
    {
      "cell_type": "markdown",
      "source": [
        "# **PROBLEM SCOPING**"
      ],
      "metadata": {
        "id": "Pe8nWQaZFzA2"
      }
    },
    {
      "cell_type": "markdown",
      "source": [
        "Untuk mempermudah operasional UMKM khususnya toko tas Bu Indah dalam mencapai keuntungan sebesar-besarnya dengan ongkos seminimal mungkin, maka kecepatan dan ketepatan informasi untuk mendukung pengambilan keputusan seorang pimpinan merupakan hal penting dan berpengaruh pada perkembangan usaha. Sistem manual yang selama ini digunakan sudah tidak mampu mengimbangi perkembangan dunia usaha saat ini, sehingga pemanfaatan teknologi informasi sangatlah diperlukan dalam membantu pimpinan dalam memecahkan permasalahan yang dihadapi. Permasalahan yang sering dihadapi adalah persediaan bahan baku di gudang yang tidak akurat. [1].\n",
        "Persediaan bahan baku sering kosong justru ketika pelanggan membutuhkan barang tersebut. Hal ini tentu sangat mengecewakan pelanggan dan mempengaruhi keuntungan toko. Kekosongan persediaan bahan baku menyebabkan toko harus melakukan pemesanan bahan baku secara mendadak kepada pemasok untuk memenuhi pesanan barang pelanggan. Sedangkan jarak pemasok yang berada di luar kota mengakibatkan waktu order sampai dengan barang tiba memerlukan waktu yang cukup lama. Hal ini tentu sangat merugikan karena pelanggan yang tidak dapat menunggu waktu kedatangan akan beralih ke toko lain. \n",
        "Permasalahan lain yang sering dihadapi adalah terjadi penumpukan beberapa jenis bahan baku di gudang dalam jangka waktu cukup lama, karena tidak ada pesanan dari pelanggan. Hal ini terjadi dikarenakan tidak adanya perkiraan jumlah barang yang akan dibeli pelanggan sehingga jumlah pembelian bahan baku dari pemasok sering keliru. Permasalahan ini menyebabkan peningkatan biaya penyediaan gudang penyimpanan barang yang lebih luas dan peningkatan biaya pemeliharaan barang agar tidak rusak [2]. Fakta yang terjadi di lapangan menunjukkan bahwa pembelian barang dari pelanggan memiliki pola musiman dan trend. Berdasarkan latar belakang masalah dan fakta dilapangan, maka dibutuhkan suatu sistem informasi pengendalian persediaan menggunakan metode machine learning naïve bayes dengan python. Sistem informasi pengendalian persediaan ini bertujuan untuk membantu produsen atau penjual memutuskan apakah harus mempertahankan stock atau menambah stock bahan baku sehingga meningkatkan keuntungan melalui penjualan barang sesuai permintaan dari pelanggan dan meningkatkan efisiensi karena tidak adanya penumpukan barang di gudang dalam waktu yang lama. Oleh karena itu, kami memilih topik forecasting dengan judul ANALISIS PREDIKSI PERSEDIAAN BAHAN BAKU DENGAN METODE MACHINE LEARNING PADA UMKM TOKO TAS BU INDAH.\n"
      ],
      "metadata": {
        "id": "nDNJ1jUGVsr6"
      }
    },
    {
      "cell_type": "markdown",
      "source": [
        "# **DATA ACQUISITION**"
      ],
      "metadata": {
        "id": "FtHhw9BqF4Dl"
      }
    },
    {
      "cell_type": "code",
      "execution_count": null,
      "metadata": {
        "id": "nTkG5aMdXuoC"
      },
      "outputs": [],
      "source": [
        "import pandas as pd"
      ]
    },
    {
      "cell_type": "code",
      "source": [
        "df = pd.read_csv('prediksinew.csv')\n",
        "df.head()\n",
        "\n",
        "mylist = list(dict.fromkeys(df['permintaan']))\n",
        "mylist"
      ],
      "metadata": {
        "colab": {
          "base_uri": "https://localhost:8080/"
        },
        "id": "BcUHuQ5rZ7xy",
        "outputId": "2f6be138-77e0-4245-8a9f-da3e050d9c38"
      },
      "execution_count": null,
      "outputs": [
        {
          "output_type": "execute_result",
          "data": {
            "text/plain": [
              "['strong', 'weak']"
            ]
          },
          "metadata": {},
          "execution_count": 29
        }
      ]
    },
    {
      "cell_type": "markdown",
      "source": [
        "# **DATA EXPLORATION**"
      ],
      "metadata": {
        "id": "bNzXtGu8Cw9O"
      }
    },
    {
      "cell_type": "code",
      "source": [
        "from sklearn import preprocessing\n",
        "le = preprocessing.LabelEncoder()\n",
        "df['tanggal'] = le.fit_transform(df['tanggal'])\n",
        "df['jumlah'] = le.fit_transform(df['jumlah'])\n",
        "df['bahan'] = le.fit_transform(df['bahan'])\n",
        "df['permintaan'] = le.fit_transform(df['permintaan'])\n",
        "df['day'] = le.fit_transform(df['day'])\n",
        "df"
      ],
      "metadata": {
        "colab": {
          "base_uri": "https://localhost:8080/",
          "height": 488
        },
        "id": "AzfDzTwiavqu",
        "outputId": "59459bea-321d-49be-c2da-e59c9aded9de"
      },
      "execution_count": null,
      "outputs": [
        {
          "output_type": "execute_result",
          "data": {
            "text/plain": [
              "    tanggal  jumlah  bahan  permintaan  day\n",
              "0         2       1      0           0    1\n",
              "1         0       2      1           1    0\n",
              "2         1       1      0           1    1\n",
              "3         2       0      0           1    1\n",
              "4         2       0      1           1    1\n",
              "5         0       2      1           0    0\n",
              "6         2       1      0           1    1\n",
              "7         0       1      1           0    1\n",
              "8         2       0      0           0    0\n",
              "9         0       0      1           0    0\n",
              "10        2       2      0           0    0\n",
              "11        0       0      1           1    1\n",
              "12        2       1      1           1    1\n",
              "13        2       2      0           1    0"
            ],
            "text/html": [
              "\n",
              "  <div id=\"df-9d76c540-ce73-4fc5-97d3-97bb1b05c965\">\n",
              "    <div class=\"colab-df-container\">\n",
              "      <div>\n",
              "<style scoped>\n",
              "    .dataframe tbody tr th:only-of-type {\n",
              "        vertical-align: middle;\n",
              "    }\n",
              "\n",
              "    .dataframe tbody tr th {\n",
              "        vertical-align: top;\n",
              "    }\n",
              "\n",
              "    .dataframe thead th {\n",
              "        text-align: right;\n",
              "    }\n",
              "</style>\n",
              "<table border=\"1\" class=\"dataframe\">\n",
              "  <thead>\n",
              "    <tr style=\"text-align: right;\">\n",
              "      <th></th>\n",
              "      <th>tanggal</th>\n",
              "      <th>jumlah</th>\n",
              "      <th>bahan</th>\n",
              "      <th>permintaan</th>\n",
              "      <th>day</th>\n",
              "    </tr>\n",
              "  </thead>\n",
              "  <tbody>\n",
              "    <tr>\n",
              "      <th>0</th>\n",
              "      <td>2</td>\n",
              "      <td>1</td>\n",
              "      <td>0</td>\n",
              "      <td>0</td>\n",
              "      <td>1</td>\n",
              "    </tr>\n",
              "    <tr>\n",
              "      <th>1</th>\n",
              "      <td>0</td>\n",
              "      <td>2</td>\n",
              "      <td>1</td>\n",
              "      <td>1</td>\n",
              "      <td>0</td>\n",
              "    </tr>\n",
              "    <tr>\n",
              "      <th>2</th>\n",
              "      <td>1</td>\n",
              "      <td>1</td>\n",
              "      <td>0</td>\n",
              "      <td>1</td>\n",
              "      <td>1</td>\n",
              "    </tr>\n",
              "    <tr>\n",
              "      <th>3</th>\n",
              "      <td>2</td>\n",
              "      <td>0</td>\n",
              "      <td>0</td>\n",
              "      <td>1</td>\n",
              "      <td>1</td>\n",
              "    </tr>\n",
              "    <tr>\n",
              "      <th>4</th>\n",
              "      <td>2</td>\n",
              "      <td>0</td>\n",
              "      <td>1</td>\n",
              "      <td>1</td>\n",
              "      <td>1</td>\n",
              "    </tr>\n",
              "    <tr>\n",
              "      <th>5</th>\n",
              "      <td>0</td>\n",
              "      <td>2</td>\n",
              "      <td>1</td>\n",
              "      <td>0</td>\n",
              "      <td>0</td>\n",
              "    </tr>\n",
              "    <tr>\n",
              "      <th>6</th>\n",
              "      <td>2</td>\n",
              "      <td>1</td>\n",
              "      <td>0</td>\n",
              "      <td>1</td>\n",
              "      <td>1</td>\n",
              "    </tr>\n",
              "    <tr>\n",
              "      <th>7</th>\n",
              "      <td>0</td>\n",
              "      <td>1</td>\n",
              "      <td>1</td>\n",
              "      <td>0</td>\n",
              "      <td>1</td>\n",
              "    </tr>\n",
              "    <tr>\n",
              "      <th>8</th>\n",
              "      <td>2</td>\n",
              "      <td>0</td>\n",
              "      <td>0</td>\n",
              "      <td>0</td>\n",
              "      <td>0</td>\n",
              "    </tr>\n",
              "    <tr>\n",
              "      <th>9</th>\n",
              "      <td>0</td>\n",
              "      <td>0</td>\n",
              "      <td>1</td>\n",
              "      <td>0</td>\n",
              "      <td>0</td>\n",
              "    </tr>\n",
              "    <tr>\n",
              "      <th>10</th>\n",
              "      <td>2</td>\n",
              "      <td>2</td>\n",
              "      <td>0</td>\n",
              "      <td>0</td>\n",
              "      <td>0</td>\n",
              "    </tr>\n",
              "    <tr>\n",
              "      <th>11</th>\n",
              "      <td>0</td>\n",
              "      <td>0</td>\n",
              "      <td>1</td>\n",
              "      <td>1</td>\n",
              "      <td>1</td>\n",
              "    </tr>\n",
              "    <tr>\n",
              "      <th>12</th>\n",
              "      <td>2</td>\n",
              "      <td>1</td>\n",
              "      <td>1</td>\n",
              "      <td>1</td>\n",
              "      <td>1</td>\n",
              "    </tr>\n",
              "    <tr>\n",
              "      <th>13</th>\n",
              "      <td>2</td>\n",
              "      <td>2</td>\n",
              "      <td>0</td>\n",
              "      <td>1</td>\n",
              "      <td>0</td>\n",
              "    </tr>\n",
              "  </tbody>\n",
              "</table>\n",
              "</div>\n",
              "      <button class=\"colab-df-convert\" onclick=\"convertToInteractive('df-9d76c540-ce73-4fc5-97d3-97bb1b05c965')\"\n",
              "              title=\"Convert this dataframe to an interactive table.\"\n",
              "              style=\"display:none;\">\n",
              "        \n",
              "  <svg xmlns=\"http://www.w3.org/2000/svg\" height=\"24px\"viewBox=\"0 0 24 24\"\n",
              "       width=\"24px\">\n",
              "    <path d=\"M0 0h24v24H0V0z\" fill=\"none\"/>\n",
              "    <path d=\"M18.56 5.44l.94 2.06.94-2.06 2.06-.94-2.06-.94-.94-2.06-.94 2.06-2.06.94zm-11 1L8.5 8.5l.94-2.06 2.06-.94-2.06-.94L8.5 2.5l-.94 2.06-2.06.94zm10 10l.94 2.06.94-2.06 2.06-.94-2.06-.94-.94-2.06-.94 2.06-2.06.94z\"/><path d=\"M17.41 7.96l-1.37-1.37c-.4-.4-.92-.59-1.43-.59-.52 0-1.04.2-1.43.59L10.3 9.45l-7.72 7.72c-.78.78-.78 2.05 0 2.83L4 21.41c.39.39.9.59 1.41.59.51 0 1.02-.2 1.41-.59l7.78-7.78 2.81-2.81c.8-.78.8-2.07 0-2.86zM5.41 20L4 18.59l7.72-7.72 1.47 1.35L5.41 20z\"/>\n",
              "  </svg>\n",
              "      </button>\n",
              "      \n",
              "  <style>\n",
              "    .colab-df-container {\n",
              "      display:flex;\n",
              "      flex-wrap:wrap;\n",
              "      gap: 12px;\n",
              "    }\n",
              "\n",
              "    .colab-df-convert {\n",
              "      background-color: #E8F0FE;\n",
              "      border: none;\n",
              "      border-radius: 50%;\n",
              "      cursor: pointer;\n",
              "      display: none;\n",
              "      fill: #1967D2;\n",
              "      height: 32px;\n",
              "      padding: 0 0 0 0;\n",
              "      width: 32px;\n",
              "    }\n",
              "\n",
              "    .colab-df-convert:hover {\n",
              "      background-color: #E2EBFA;\n",
              "      box-shadow: 0px 1px 2px rgba(60, 64, 67, 0.3), 0px 1px 3px 1px rgba(60, 64, 67, 0.15);\n",
              "      fill: #174EA6;\n",
              "    }\n",
              "\n",
              "    [theme=dark] .colab-df-convert {\n",
              "      background-color: #3B4455;\n",
              "      fill: #D2E3FC;\n",
              "    }\n",
              "\n",
              "    [theme=dark] .colab-df-convert:hover {\n",
              "      background-color: #434B5C;\n",
              "      box-shadow: 0px 1px 3px 1px rgba(0, 0, 0, 0.15);\n",
              "      filter: drop-shadow(0px 1px 2px rgba(0, 0, 0, 0.3));\n",
              "      fill: #FFFFFF;\n",
              "    }\n",
              "  </style>\n",
              "\n",
              "      <script>\n",
              "        const buttonEl =\n",
              "          document.querySelector('#df-9d76c540-ce73-4fc5-97d3-97bb1b05c965 button.colab-df-convert');\n",
              "        buttonEl.style.display =\n",
              "          google.colab.kernel.accessAllowed ? 'block' : 'none';\n",
              "\n",
              "        async function convertToInteractive(key) {\n",
              "          const element = document.querySelector('#df-9d76c540-ce73-4fc5-97d3-97bb1b05c965');\n",
              "          const dataTable =\n",
              "            await google.colab.kernel.invokeFunction('convertToInteractive',\n",
              "                                                     [key], {});\n",
              "          if (!dataTable) return;\n",
              "\n",
              "          const docLinkHtml = 'Like what you see? Visit the ' +\n",
              "            '<a target=\"_blank\" href=https://colab.research.google.com/notebooks/data_table.ipynb>data table notebook</a>'\n",
              "            + ' to learn more about interactive tables.';\n",
              "          element.innerHTML = '';\n",
              "          dataTable['output_type'] = 'display_data';\n",
              "          await google.colab.output.renderOutput(dataTable, element);\n",
              "          const docLink = document.createElement('div');\n",
              "          docLink.innerHTML = docLinkHtml;\n",
              "          element.appendChild(docLink);\n",
              "        }\n",
              "      </script>\n",
              "    </div>\n",
              "  </div>\n",
              "  "
            ]
          },
          "metadata": {},
          "execution_count": 30
        }
      ]
    },
    {
      "cell_type": "markdown",
      "source": [
        "# **MODELLING**"
      ],
      "metadata": {
        "id": "HC20qJ_NGNq9"
      }
    },
    {
      "cell_type": "code",
      "source": [
        "X = df.iloc[:,0:4].values\n",
        "Y = df.iloc[:,4].values\n",
        "Y"
      ],
      "metadata": {
        "colab": {
          "base_uri": "https://localhost:8080/"
        },
        "id": "_G_PyrGcbuTq",
        "outputId": "d9a04865-2032-49f6-cd9b-c3bc24b5c7e3"
      },
      "execution_count": null,
      "outputs": [
        {
          "output_type": "execute_result",
          "data": {
            "text/plain": [
              "array([1, 0, 1, 1, 1, 0, 1, 1, 0, 0, 0, 1, 1, 0])"
            ]
          },
          "metadata": {},
          "execution_count": 31
        }
      ]
    },
    {
      "cell_type": "code",
      "source": [
        "from sklearn import naive_bayes, metrics\n",
        "model = naive_bayes.GaussianNB()\n",
        "model.fit(X,Y)\n",
        "y_pred = model.predict(X)\n",
        "score = metrics.accuracy_score(Y, y_pred)\n",
        "print(\"Akurasi dengan menggunakan naive bayes : \", score)"
      ],
      "metadata": {
        "colab": {
          "base_uri": "https://localhost:8080/"
        },
        "id": "YcqgGE1VdkIl",
        "outputId": "2b586df1-7aa7-4cf1-920d-c4b89b0635d4"
      },
      "execution_count": null,
      "outputs": [
        {
          "output_type": "stream",
          "name": "stdout",
          "text": [
            "Akurasi dengan menggunakan naive bayes :  0.7857142857142857\n"
          ]
        }
      ]
    },
    {
      "cell_type": "markdown",
      "source": [
        "# **EVALUATION**"
      ],
      "metadata": {
        "id": "gTnrrTk0GXBW"
      }
    },
    {
      "cell_type": "code",
      "source": [
        "#from sklearn.model_selection import train_test_split\n",
        "#X_train, X_test, y_train, y_test = train_test_split(X,Y,train_size=0.8)"
      ],
      "metadata": {
        "id": "qZTT-_NQsZhj"
      },
      "execution_count": null,
      "outputs": []
    },
    {
      "cell_type": "code",
      "source": [
        "#nb = naive_bayes.GaussianNB()\n",
        "\n",
        "#nb.fit(X_train, y_train)\n",
        "#y_pred = nb.predict(X_test)\n",
        "#score = metrics.accuracy_score(y_test, y_pred)\n",
        "#print(\"Akurasinya menjadi : \", score)"
      ],
      "metadata": {
        "id": "bMznqBemtsQG"
      },
      "execution_count": null,
      "outputs": []
    },
    {
      "cell_type": "markdown",
      "source": [
        "# **FILE EXTENSION FOR DEPLOYMENT** "
      ],
      "metadata": {
        "id": "AmGZDLmgGfZq"
      }
    },
    {
      "cell_type": "code",
      "source": [
        "import pickle\n",
        "import pandas as pd\n",
        "\n",
        "pd.to_pickle(nb,\"blitz3.pkl\")\n",
        "\n",
        "print(nb)"
      ],
      "metadata": {
        "colab": {
          "base_uri": "https://localhost:8080/"
        },
        "id": "zNYR3A2Zqr0h",
        "outputId": "0de1f777-1467-47c3-f1f1-59e44e8eb6b7"
      },
      "execution_count": null,
      "outputs": [
        {
          "output_type": "stream",
          "name": "stdout",
          "text": [
            "GaussianNB()\n"
          ]
        }
      ]
    },
    {
      "cell_type": "code",
      "source": [
        "mylist = list(dict.fromkeys(df['permintaan']))\n",
        "mylist"
      ],
      "metadata": {
        "colab": {
          "base_uri": "https://localhost:8080/"
        },
        "id": "WRnITZw2sMwJ",
        "outputId": "1aa30e19-9f3b-4280-ffe5-07854e60e543"
      },
      "execution_count": null,
      "outputs": [
        {
          "output_type": "execute_result",
          "data": {
            "text/plain": [
              "[0, 1]"
            ]
          },
          "metadata": {},
          "execution_count": 36
        }
      ]
    }
  ]
}